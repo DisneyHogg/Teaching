{
 "cells": [
  {
   "cell_type": "markdown",
   "metadata": {},
   "source": [
    "# Fibonacci Numbers and the Golden Ratio"
   ]
  },
  {
   "cell_type": "markdown",
   "metadata": {},
   "source": [
    "This is a brief introduction to the [golden ratio](https://en.wikipedia.org/wiki/Golden_ratio), presented through it's relation to the [Fibonacci numbers](https://en.wikipedia.org/wiki/Fibonacci_number). A common introduction to the golden ratio can be through its presence in [art](https://www.goldennumber.net/art-composition-design/), but I feel that this typically hides the more mathematically interesting properties of the golden ratio, some similar numbers (e.g the [silver ratio](https://en.wikipedia.org/wiki/Silver_ratio)), and areas of mathematics connected with its discovery. "
   ]
  },
  {
   "cell_type": "code",
   "execution_count": 2,
   "metadata": {},
   "outputs": [],
   "source": [
    "import numpy as np \n",
    "import matplotlib.pyplot as plt\n",
    "from matplotlib import rc\n",
    "import scipy as sp\n",
    "import scipy.linalg\n",
    "from numpy import *"
   ]
  },
  {
   "cell_type": "markdown",
   "metadata": {},
   "source": [
    "Let's first define this Fibonacci numbers using a recurrence relation as such: \n",
    "$$\n",
    "\\begin{align}\n",
    " & F_0=1 \\\\\n",
    " & F_1=1 \\\\\n",
    " \\forall n\\geq2 \\;\\; & F_n=F_{n-1}+F_{n-2} \n",
    " \\end{align} \n",
    " $$"
   ]
  },
  {
   "cell_type": "markdown",
   "metadata": {},
   "source": [
    "We may write a function in python to generate the first $n$ Fibonacci numbers for $n\\geq2$ ($n\\in\\mathbb{N}$ naturally)."
   ]
  },
  {
   "cell_type": "code",
   "execution_count": 3,
   "metadata": {},
   "outputs": [],
   "source": [
    "def Fibonacci(n):\n",
    "    F=np.zeros(n)\n",
    "    F[0:2]=np.array([1,1])\n",
    "    for i in range(2,n):\n",
    "        F[i]=F[i-1]+F[i-2]\n",
    "    return(F)"
   ]
  },
  {
   "cell_type": "markdown",
   "metadata": {},
   "source": [
    "We can now try this out. Notes I have chosen my convention of starting with $F_0=1$ in order to have $\\texttt{F[i]}=F_i$ in my array, and to avoid any issues with dividing by zero when considering the ratio. "
   ]
  },
  {
   "cell_type": "code",
   "execution_count": 4,
   "metadata": {},
   "outputs": [
    {
     "name": "stdout",
     "output_type": "stream",
     "text": [
      "[ 1.  1.  2.  3.  5.  8. 13. 21. 34. 55. 89.]\n"
     ]
    }
   ],
   "source": [
    "F=Fibonacci(11)\n",
    "print(F)"
   ]
  },
  {
   "cell_type": "markdown",
   "metadata": {},
   "source": [
    "If we want to know something about how fast this series is increasing, we can look at the ratios between successive terms, $R_n=\\frac{F_{n+1}}{F_n}$. "
   ]
  },
  {
   "cell_type": "code",
   "execution_count": 5,
   "metadata": {},
   "outputs": [
    {
     "name": "stdout",
     "output_type": "stream",
     "text": [
      "[1.     2.     1.5    1.6667 1.6    1.625  1.6154 1.619  1.6176 1.6182]\n"
     ]
    }
   ],
   "source": [
    "R=F[1::]/F[:-1]\n",
    "print(np.round(R,decimals=4))"
   ]
  },
  {
   "cell_type": "markdown",
   "metadata": {},
   "source": [
    "These seem to be tending to some limit, so we can investigate further by looking at the ratios of the next few Fibonacci numbers"
   ]
  },
  {
   "cell_type": "code",
   "execution_count": 6,
   "metadata": {},
   "outputs": [
    {
     "name": "stdout",
     "output_type": "stream",
     "text": [
      "[1.61797753 1.61805556 1.61802575 1.61803714 1.61803279 1.61803445\n",
      " 1.61803381 1.61803406 1.61803396 1.618034  ]\n"
     ]
    }
   ],
   "source": [
    "F=Fibonacci(21)\n",
    "R=F[1::]/F[:-1]\n",
    "print(np.round(R[10::],decimals=8))"
   ]
  },
  {
   "cell_type": "markdown",
   "metadata": {},
   "source": [
    "We may also investigate this ratio by noting\n",
    "$$\n",
    "R_{n+1}=\\frac{F_{n+2}}{F_{n+1}}=\\frac{F_{n+1}+F_{n}}{F_{n+1}}=1+\\frac{1}{R_n}\n",
    "\\\\\n",
    "$$\n",
    "This mean we can write the relation as $R_{n+1}=f(R_n)$, for the function $f(x)=1+\\frac{1}{x}$. With this formulation we can produce a [cobweb plot](https://en.wikipedia.org/wiki/Cobweb_plot)."
   ]
  },
  {
   "cell_type": "code",
   "execution_count": 15,
   "metadata": {},
   "outputs": [
    {
     "data": {
      "image/png": "[encoded data removed]",
      "text/plain": [
       "<Figure size 432x288 with 1 Axes>"
      ]
     },
     "metadata": {
      "needs_background": "light"
     },
     "output_type": "display_data"
    }
   ],
   "source": [
    "def f(x): return(1+1/x)\n",
    "\n",
    "xmin=0.9\n",
    "xmax=2.1\n",
    "x=linspace(xmin,xmax,100)\n",
    "y=f(x)\n",
    "\n",
    "n=20\n",
    "X=np.zeros(n+1)\n",
    "Y=np.zeros(n+1)\n",
    "X[0]=1\n",
    "for i in range(0,n):\n",
    "    X[i+1]=f(X[i])\n",
    "for i in range(0,n-1):\n",
    "    plt.plot([X[i],X[i+1]],[X[i+1],X[i+1]],'b',lw=1)\n",
    "    plt.plot([X[i+1],X[i+1]],[X[i+1],X[i+2]],'b',lw=1)\n",
    "plt.plot(x,y,'k',lw=1)\n",
    "plt.plot([xmin,xmax],[xmin,xmax],'k',lw=1)\n",
    "\n",
    "ax = plt.gca()\n",
    "ax.set_aspect(1)\n",
    "ax.set_ylim(0.99*f(xmax),1.01*f(xmin))\n",
    "ax.minorticks_on()\n",
    "ax.grid(which='minor', alpha=0.1)\n",
    "ax.grid(which='major', alpha=0.1)\n",
    "ax.set_xlim(xmin,xmax);"
   ]
  },
  {
   "cell_type": "markdown",
   "metadata": {},
   "source": [
    "We can see from the plot that the ratio is getting closer and closer to a value $R^{\\ast}$ which is a fixed point of $f$, i.e. $f(R^{\\ast})=R^{\\ast}$. We can understand the stability of this fixed point by [Taylor expanding](https://en.wikipedia.org/wiki/Taylor_series) $f(R)$ about $R^{\\ast}$\n",
    "$$\n",
    "\\begin{align}\n",
    " f(R)&=f(R^{\\ast})+f^{'}(R^{\\ast})\\left(R-R^{\\ast}\\right)+O\\left(\\left(R-R^{\\ast}\\right)^2\\right) \\\\\n",
    "\\Rightarrow \\;\\; \\lvert R_{n+1}-R^{\\ast}\\rvert&=\\lvert f^{'}(R^{\\ast})\\rvert \\lvert R_{n}-R^{\\ast}\\rvert \\;\\; \\text{to lowest order}\n",
    "\\end{align}\n",
    "$$\n",
    "Hence the fixed point is attractive if $\\lvert f^{'}(R^{\\ast})\\rvert < 1 \\; \\Leftrightarrow R^{\\ast}>1 $"
   ]
  },
  {
   "cell_type": "markdown",
   "metadata": {},
   "source": [
    "The fixed points of $f(x)$ are the solutions of $x=1+\\frac{1}{x} \\, \\Rightarrow \\, x^2-x-1=0 \\, \\Rightarrow \\, x=\\frac{1\\pm\\sqrt{5}}{2}$, so we expect that our ratio is tending to $\\frac{1+\\sqrt{5}}{2}$, as this is the positive root. Let's prove it."
   ]
  },
  {
   "cell_type": "markdown",
   "metadata": {},
   "source": [
    "The defining equation for the Fibonacci sequence is a [linear difference equation](https://en.wikipedia.org/wiki/Linear_difference_equation), and can be solved nicely by looking for solutions that are linear combinations of $\\lambda^n$. Using this ansatz we find \n",
    "$$\n",
    "\\begin{align}\n",
    "\\lambda^{n+2} &= \\lambda^{n+1}+\\lambda^{n} \\\\\n",
    "\\Rightarrow \\, 0 &= \\lambda^2-\\lambda-1 \n",
    "\\end{align}\n",
    "$$"
   ]
  },
  {
   "cell_type": "markdown",
   "metadata": {},
   "source": [
    "This is the same quadratic as we solved to find the fixed points of our recurrence relation for the ratio, and this is no coincidence. So we know the general solution to our difference equation is $F_n=A\\left(\\frac{1+\\sqrt{5}}{2}\\right)^n+B\\left(\\frac{1-\\sqrt{5}}{2}\\right)^n$. Imposing the conditions that $F_0=1$ and $F_1=1$ gives \n",
    "$$\n",
    "\\begin{align}\n",
    "A+B &= 1 \\\\\n",
    "A\\left(\\frac{1+\\sqrt{5}}{2}\\right)+B\\left(\\frac{1-\\sqrt{5}}{2}\\right) &= 1 \n",
    "\\end{align}\n",
    "$$"
   ]
  },
  {
   "cell_type": "markdown",
   "metadata": {},
   "source": [
    "so our final solution is \n",
    "$$\n",
    "F_n=\\frac{1}{\\sqrt{5}}\\left[\\left(\\frac{1+\\sqrt{5}}{2}\\right)^{n+1}-\\left(\\frac{1-\\sqrt{5}}{2}\\right)^{n+1}\\right]\n",
    "$$"
   ]
  },
  {
   "cell_type": "markdown",
   "metadata": {},
   "source": [
    "Now, recognising that $\\lvert\\frac{1-\\sqrt{5}}{2}\\rvert<1$, we can see that the contribution to $F_n$ from the second term will become negligible, and the ratio $R_n \\to \\frac{1+\\sqrt{5}}{2}$. This ratio is the golden ratio. "
   ]
  },
  {
   "cell_type": "markdown",
   "metadata": {},
   "source": [
    "We can extend this analysis to a more general type of Fibonacci sequence defined by \n",
    "$$\n",
    "F_{n+m}=\\sum_{k=0}^{m-1} a_k F_{n+k}\n",
    "$$\n",
    "for $n\\geq0$ for some $m\\in\\mathbb{N}$, $a_k \\in \\mathbb{N}_{0}$, giving $F_0, F_1, \\dots, F_{m-1}$ as initial values. In this case the solutions will be given in terms of the roots of the polynomial \n",
    "$$\n",
    "\\lambda^{m}-\\sum_{k=0}^{m-1} a_k \\lambda^k=0\n",
    "$$"
   ]
  },
  {
   "cell_type": "markdown",
   "metadata": {},
   "source": [
    "In this case, the corresponding 'Golden ratio' will be the the root with the largest modulus, which we know must be real and positive. "
   ]
  },
  {
   "cell_type": "markdown",
   "metadata": {},
   "source": [
    "In the case that $F_{n+2}=2F_{n+1}+F_{n}$, we get what is known as the [silver ratio](https://en.wikipedia.org/wiki/Silver_ratio), and has the value $\\frac{2+\\sqrt{8}}{2}=1+\\sqrt{2}$. "
   ]
  },
  {
   "cell_type": "code",
   "execution_count": 13,
   "metadata": {},
   "outputs": [
    {
     "data": {
      "image/png": "[encoded data removed]",
      "text/plain": [
       "<Figure size 432x288 with 1 Axes>"
      ]
     },
     "metadata": {
      "needs_background": "light"
     },
     "output_type": "display_data"
    }
   ],
   "source": [
    "def g(x): return(2+1/x)\n",
    "\n",
    "xmin=2.0\n",
    "xmax=3.0\n",
    "x=linspace(xmin,xmax,100)\n",
    "y=g(x)\n",
    "\n",
    "n=20\n",
    "X=np.zeros(n+1)\n",
    "Y=np.zeros(n+1)\n",
    "X[0]=1\n",
    "for i in range(0,n):\n",
    "    X[i+1]=g(X[i])\n",
    "for i in range(0,n-1):\n",
    "    plt.plot([X[i],X[i+1]],[X[i+1],X[i+1]],'b',lw=1)\n",
    "    plt.plot([X[i+1],X[i+1]],[X[i+1],X[i+2]],'b',lw=1)\n",
    "plt.plot(x,y,'k',lw=1)\n",
    "plt.plot([xmin,xmax],[xmin,xmax],'k',lw=1)\n",
    "\n",
    "ax = plt.gca()\n",
    "ax.set_aspect(1)\n",
    "ax.set_ylim(0.99*g(xmax),1.01*g(xmin))\n",
    "ax.minorticks_on()\n",
    "ax.grid(which='minor', alpha=0.1)\n",
    "ax.grid(which='major', alpha=0.1)\n",
    "ax.set_xlim(xmin,xmax);"
   ]
  },
  {
   "cell_type": "code",
   "execution_count": null,
   "metadata": {},
   "outputs": [],
   "source": []
  }
 ],
 "metadata": {
  "kernelspec": {
   "display_name": "Python 2",
   "language": "python",
   "name": "python2"
  },
  "language_info": {
   "codemirror_mode": {
    "name": "ipython",
    "version": 2
   },
   "file_extension": ".py",
   "mimetype": "text/x-python",
   "name": "python",
   "nbconvert_exporter": "python",
   "pygments_lexer": "ipython2",
   "version": "2.7.15"
  }
 },
 "nbformat": 4,
 "nbformat_minor": 2
}
